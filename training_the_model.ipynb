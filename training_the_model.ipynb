{
  "nbformat": 4,
  "nbformat_minor": 5,
  "metadata": {
    "kernelspec": {
      "display_name": "Python 3",
      "language": "python",
      "name": "python3"
    },
    "language_info": {
      "codemirror_mode": {
        "name": "ipython",
        "version": 3
      },
      "file_extension": ".py",
      "mimetype": "text/x-python",
      "name": "python",
      "nbconvert_exporter": "python",
      "pygments_lexer": "ipython3",
      "version": "3.8.8"
    },
    "colab": {
      "name": "training_the_model.ipynb",
      "provenance": []
    },
    "accelerator": "GPU"
  },
  "cells": [
    {
      "cell_type": "code",
      "metadata": {
        "id": "7b0a8a1a"
      },
      "source": [
        "import os\n",
        "import numpy as np \n",
        "import pandas as pd\n",
        "import librosa\n",
        "import json\n",
        "import pickle\n",
        "from sklearn.model_selection import train_test_split\n",
        "import random\n",
        "import tensorflow as tf\n",
        "import json\n",
        "from sklearn.model_selection import train_test_split\n",
        "import tensorflow.keras as keras\n",
        "import matplotlib.pyplot as plt"
      ],
      "id": "7b0a8a1a",
      "execution_count": 13,
      "outputs": []
    },
    {
      "cell_type": "code",
      "metadata": {
        "id": "2bL73iz3VxJ3",
        "colab": {
          "base_uri": "https://localhost:8080/"
        },
        "outputId": "691fa164-3eb5-4d70-b36f-52d82cd11204"
      },
      "source": [
        "from google.colab import drive\n",
        "drive.mount(\"/content/drive\")"
      ],
      "id": "2bL73iz3VxJ3",
      "execution_count": 14,
      "outputs": [
        {
          "output_type": "stream",
          "text": [
            "Drive already mounted at /content/drive; to attempt to forcibly remount, call drive.mount(\"/content/drive\", force_remount=True).\n"
          ],
          "name": "stdout"
        }
      ]
    },
    {
      "cell_type": "markdown",
      "metadata": {
        "id": "dbb64813"
      },
      "source": [
        ""
      ],
      "id": "dbb64813"
    },
    {
      "cell_type": "markdown",
      "metadata": {
        "id": "f1b31417"
      },
      "source": [
        "We create a function to Load the pickle file (pre_processed_data.pkl) which was created after data_extraction.\n",
        "This file contains out features: Mfccs, stfts (short time fourier transform) and mels (mel spectrograms) in the following format:\n",
        "\n",
        "\n",
        "    data = {\n",
        "        \"semantic_label\": [], ---> 'drilling', 'gun_shot', 'children_playing' etc\n",
        "        \"labels\" : [],        --->  0000000001, 0000000010, ..and other one hot encoded labels\n",
        "        \"mfccs\" : [],         --->  mfcc matrices of shape (44,13)\n",
        "         \"mels\" : [],         --->  mel matrices of shape (44, 1025)\n",
        "         \"stft\" : []          --->  stft matrices of shape (44,1025)\n",
        "          }\n",
        "    \n",
        " "
      ],
      "id": "f1b31417"
    },
    {
      "cell_type": "code",
      "metadata": {
        "id": "9cab71cc"
      },
      "source": [
        "def load_data(filepath):\n",
        "    with open(filepath, 'rb') as pkl_file:\n",
        "        dataset = pickle.load(pkl_file)\n",
        "        \n",
        "    return dataset\n",
        "    "
      ],
      "id": "9cab71cc",
      "execution_count": 15,
      "outputs": []
    },
    {
      "cell_type": "markdown",
      "metadata": {
        "id": "163e1cbd"
      },
      "source": [
        "We create a function to select a feature and also convert the selected feature to a numpy array\n",
        "\n",
        "The features are : 'mels', 'stft', 'mfccs'\n",
        "\n",
        "In this case, we are using Mfccs to train the model.However, other features can be used to train the model and best performing model can be selected\n",
        "\n"
      ],
      "id": "163e1cbd"
    },
    {
      "cell_type": "code",
      "metadata": {
        "id": "0a972832"
      },
      "source": [
        "def select_feature(feature, filepath):\n",
        "        \n",
        "    dataset = load_data(filepath)\n",
        "    \n",
        "    f = dataset[feature]\n",
        "        \n",
        "    X = np.array(f)\n",
        "    \n",
        "    #add new axis to make 2d tensor 3d so that we can mimic image data which has 3 channels (RGB)\n",
        "    \n",
        "    X = X[...,np.newaxis]\n",
        "    \n",
        "    y = np.array(dataset['labels'])\n",
        "    \n",
        "    return X, y\n"
      ],
      "id": "0a972832",
      "execution_count": 16,
      "outputs": []
    },
    {
      "cell_type": "markdown",
      "metadata": {
        "id": "3fc12656"
      },
      "source": [
        "X.shape, y.shape\n",
        "\n",
        "((29300, 44, 13, 1), (29300, 10))"
      ],
      "id": "3fc12656"
    },
    {
      "cell_type": "code",
      "metadata": {
        "id": "69c2f723"
      },
      "source": [
        "def prepare_datasets(test_size, validation_size):\n",
        "    \n",
        "     # load data\n",
        "    \n",
        "    filepath = '/content/drive/MyDrive/urbansound/dataset.pkl'\n",
        "    \n",
        "    #select feature\n",
        "\n",
        "    X, y = select_feature('mfccs', filepath)\n",
        "\n",
        "    # create train, validation and test split\n",
        "    X_train, X_test, y_train, y_test = train_test_split(X, y, test_size=test_size)\n",
        "    X_train, X_validation, y_train, y_validation = train_test_split(X_train, y_train, test_size=validation_size)\n",
        "\n",
        "\n",
        "    return X_train, X_validation, X_test, y_train, y_validation, y_test"
      ],
      "id": "69c2f723",
      "execution_count": 17,
      "outputs": []
    },
    {
      "cell_type": "code",
      "metadata": {
        "id": "76fe0a1f"
      },
      "source": [
        "def build_model(input_shape):\n",
        "\n",
        "    # build network topology\n",
        "    model = keras.Sequential()\n",
        "\n",
        "    # 1st conv layer\n",
        "    model.add(keras.layers.Conv2D(64, (3, 3), activation='relu', input_shape=input_shape))\n",
        "    model.add(keras.layers.MaxPooling2D((3, 3), strides=(2, 2), padding='same'))\n",
        "    model.add(keras.layers.BatchNormalization())\n",
        "\n",
        "    # 2nd conv layer\n",
        "    model.add(keras.layers.Conv2D(128, (3, 3), activation='relu'))\n",
        "    model.add(keras.layers.MaxPooling2D((3, 3), strides=(2, 2), padding='same'))\n",
        "    model.add(keras.layers.BatchNormalization())\n",
        "\n",
        "    # 3rd conv layer\n",
        "    model.add(keras.layers.Conv2D(256, (2, 2), activation='relu'))\n",
        "    model.add(keras.layers.MaxPooling2D((2, 2), strides=(2, 2), padding='same'))\n",
        "    model.add(keras.layers.BatchNormalization())\n",
        "\n",
        "    # flatten output and feed it into dense layer\n",
        "    model.add(keras.layers.Flatten())\n",
        "    model.add(keras.layers.Dense(128, activation='relu'))\n",
        "    model.add(keras.layers.Dropout(0.3))\n",
        "\n",
        "    # output layer\n",
        "    model.add(keras.layers.Dense(10, activation='softmax'))\n",
        "\n",
        "    return model"
      ],
      "id": "76fe0a1f",
      "execution_count": 18,
      "outputs": []
    },
    {
      "cell_type": "code",
      "metadata": {
        "id": "5c4c4b88"
      },
      "source": [
        "def predict(model, X, y):\n",
        "    \"\"\"Predict a single sample using the trained model\n",
        "    :param model: Trained classifier\n",
        "    :param X: Input data\n",
        "    :param y (int): Target\n",
        "    \"\"\"\n",
        "\n",
        "\n",
        "    # add a dimension to input data for sample - model.predict() expects a 4d array in this case\n",
        "    X = X[np.newaxis, ...] # array shape (1, 130, 13, 1)\n",
        "\n",
        "    # perform prediction\n",
        "    prediction = model.predict(X)\n",
        "\n",
        "    # get index with max value\n",
        "    predicted_index = np.argmax(prediction, axis=1)\n",
        "\n",
        "    print(\"Target: {}, Predicted label: {}\".format(y, predicted_index))"
      ],
      "id": "5c4c4b88",
      "execution_count": 19,
      "outputs": []
    },
    {
      "cell_type": "code",
      "metadata": {
        "id": "7c7d935e",
        "colab": {
          "base_uri": "https://localhost:8080/"
        },
        "outputId": "faecdf5d-3218-4408-8958-fc51890e3fbe"
      },
      "source": [
        "if __name__ == '__main__':\n",
        "         # get train, validation, test splits\n",
        "    X_train, X_validation, X_test, y_train, y_validation, y_test = prepare_datasets(0.25, 0.2)\n",
        "\n",
        "    # create network\n",
        "    input_shape = (X_train.shape[1], X_train.shape[2], 1)\n",
        "    model = build_model(input_shape)\n",
        "\n",
        "    # compile model\n",
        "    optimiser = keras.optimizers.Adam(learning_rate=0.0001)\n",
        "    model.compile(optimizer=optimiser,\n",
        "                  loss='categorical_crossentropy',\n",
        "                  metrics=['accuracy'])\n",
        "\n",
        "    model.summary()"
      ],
      "id": "7c7d935e",
      "execution_count": 20,
      "outputs": [
        {
          "output_type": "stream",
          "text": [
            "Model: \"sequential_1\"\n",
            "_________________________________________________________________\n",
            "Layer (type)                 Output Shape              Param #   \n",
            "=================================================================\n",
            "conv2d_3 (Conv2D)            (None, 42, 11, 64)        640       \n",
            "_________________________________________________________________\n",
            "max_pooling2d_3 (MaxPooling2 (None, 21, 6, 64)         0         \n",
            "_________________________________________________________________\n",
            "batch_normalization_3 (Batch (None, 21, 6, 64)         256       \n",
            "_________________________________________________________________\n",
            "conv2d_4 (Conv2D)            (None, 19, 4, 128)        73856     \n",
            "_________________________________________________________________\n",
            "max_pooling2d_4 (MaxPooling2 (None, 10, 2, 128)        0         \n",
            "_________________________________________________________________\n",
            "batch_normalization_4 (Batch (None, 10, 2, 128)        512       \n",
            "_________________________________________________________________\n",
            "conv2d_5 (Conv2D)            (None, 9, 1, 256)         131328    \n",
            "_________________________________________________________________\n",
            "max_pooling2d_5 (MaxPooling2 (None, 5, 1, 256)         0         \n",
            "_________________________________________________________________\n",
            "batch_normalization_5 (Batch (None, 5, 1, 256)         1024      \n",
            "_________________________________________________________________\n",
            "flatten_1 (Flatten)          (None, 1280)              0         \n",
            "_________________________________________________________________\n",
            "dense_2 (Dense)              (None, 128)               163968    \n",
            "_________________________________________________________________\n",
            "dropout_1 (Dropout)          (None, 128)               0         \n",
            "_________________________________________________________________\n",
            "dense_3 (Dense)              (None, 10)                1290      \n",
            "=================================================================\n",
            "Total params: 372,874\n",
            "Trainable params: 371,978\n",
            "Non-trainable params: 896\n",
            "_________________________________________________________________\n"
          ],
          "name": "stdout"
        }
      ]
    },
    {
      "cell_type": "code",
      "metadata": {
        "id": "2f622c0a",
        "colab": {
          "base_uri": "https://localhost:8080/"
        },
        "outputId": "9baa19f3-5569-4934-b801-a856965c1dcc"
      },
      "source": [
        "if __name__=='__main__':\n",
        "    # train model\n",
        "    history = model.fit(X_train, y_train, validation_data=(X_validation, y_validation), batch_size=64, epochs=100)\n",
        "\n",
        "  "
      ],
      "id": "2f622c0a",
      "execution_count": 21,
      "outputs": [
        {
          "output_type": "stream",
          "text": [
            "Epoch 1/100\n",
            "275/275 [==============================] - 2s 5ms/step - loss: 1.6544 - accuracy: 0.4677 - val_loss: 0.9984 - val_accuracy: 0.6648\n",
            "Epoch 2/100\n",
            "275/275 [==============================] - 1s 5ms/step - loss: 0.8801 - accuracy: 0.7086 - val_loss: 0.6762 - val_accuracy: 0.7741\n",
            "Epoch 3/100\n",
            "275/275 [==============================] - 1s 5ms/step - loss: 0.7119 - accuracy: 0.7646 - val_loss: 0.5993 - val_accuracy: 0.8064\n",
            "Epoch 4/100\n",
            "275/275 [==============================] - 1s 5ms/step - loss: 0.5898 - accuracy: 0.7992 - val_loss: 0.5568 - val_accuracy: 0.8068\n",
            "Epoch 5/100\n",
            "275/275 [==============================] - 1s 5ms/step - loss: 0.5070 - accuracy: 0.8322 - val_loss: 0.4769 - val_accuracy: 0.8391\n",
            "Epoch 6/100\n",
            "275/275 [==============================] - 1s 5ms/step - loss: 0.4529 - accuracy: 0.8480 - val_loss: 0.4263 - val_accuracy: 0.8491\n",
            "Epoch 7/100\n",
            "275/275 [==============================] - 1s 5ms/step - loss: 0.4017 - accuracy: 0.8635 - val_loss: 0.4423 - val_accuracy: 0.8512\n",
            "Epoch 8/100\n",
            "275/275 [==============================] - 1s 5ms/step - loss: 0.3592 - accuracy: 0.8775 - val_loss: 0.3848 - val_accuracy: 0.8696\n",
            "Epoch 9/100\n",
            "275/275 [==============================] - 1s 5ms/step - loss: 0.3188 - accuracy: 0.8965 - val_loss: 0.3618 - val_accuracy: 0.8842\n",
            "Epoch 10/100\n",
            "275/275 [==============================] - 1s 5ms/step - loss: 0.2988 - accuracy: 0.8952 - val_loss: 0.3547 - val_accuracy: 0.8792\n",
            "Epoch 11/100\n",
            "275/275 [==============================] - 1s 5ms/step - loss: 0.2627 - accuracy: 0.9110 - val_loss: 0.3517 - val_accuracy: 0.8796\n",
            "Epoch 12/100\n",
            "275/275 [==============================] - 1s 5ms/step - loss: 0.2513 - accuracy: 0.9152 - val_loss: 0.3487 - val_accuracy: 0.8828\n",
            "Epoch 13/100\n",
            "275/275 [==============================] - 1s 5ms/step - loss: 0.2213 - accuracy: 0.9230 - val_loss: 0.3400 - val_accuracy: 0.8910\n",
            "Epoch 14/100\n",
            "275/275 [==============================] - 1s 5ms/step - loss: 0.2082 - accuracy: 0.9316 - val_loss: 0.3555 - val_accuracy: 0.8842\n",
            "Epoch 15/100\n",
            "275/275 [==============================] - 1s 5ms/step - loss: 0.1789 - accuracy: 0.9430 - val_loss: 0.3106 - val_accuracy: 0.8978\n",
            "Epoch 16/100\n",
            "275/275 [==============================] - 1s 5ms/step - loss: 0.1804 - accuracy: 0.9431 - val_loss: 0.3295 - val_accuracy: 0.8915\n",
            "Epoch 17/100\n",
            "275/275 [==============================] - 1s 5ms/step - loss: 0.1682 - accuracy: 0.9442 - val_loss: 0.3384 - val_accuracy: 0.8896\n",
            "Epoch 18/100\n",
            "275/275 [==============================] - 1s 5ms/step - loss: 0.1488 - accuracy: 0.9490 - val_loss: 0.3178 - val_accuracy: 0.8953\n",
            "Epoch 19/100\n",
            "275/275 [==============================] - 1s 5ms/step - loss: 0.1338 - accuracy: 0.9555 - val_loss: 0.4528 - val_accuracy: 0.8576\n",
            "Epoch 20/100\n",
            "275/275 [==============================] - 1s 5ms/step - loss: 0.1270 - accuracy: 0.9591 - val_loss: 0.2823 - val_accuracy: 0.9065\n",
            "Epoch 21/100\n",
            "275/275 [==============================] - 1s 5ms/step - loss: 0.1212 - accuracy: 0.9598 - val_loss: 0.3053 - val_accuracy: 0.9049\n",
            "Epoch 22/100\n",
            "275/275 [==============================] - 1s 5ms/step - loss: 0.1079 - accuracy: 0.9639 - val_loss: 0.2554 - val_accuracy: 0.9183\n",
            "Epoch 23/100\n",
            "275/275 [==============================] - 1s 5ms/step - loss: 0.1019 - accuracy: 0.9659 - val_loss: 0.2813 - val_accuracy: 0.9131\n",
            "Epoch 24/100\n",
            "275/275 [==============================] - 1s 5ms/step - loss: 0.0926 - accuracy: 0.9698 - val_loss: 0.3010 - val_accuracy: 0.9119\n",
            "Epoch 25/100\n",
            "275/275 [==============================] - 1s 5ms/step - loss: 0.0912 - accuracy: 0.9705 - val_loss: 0.2934 - val_accuracy: 0.9149\n",
            "Epoch 26/100\n",
            "275/275 [==============================] - 1s 5ms/step - loss: 0.0877 - accuracy: 0.9721 - val_loss: 0.3675 - val_accuracy: 0.8915\n",
            "Epoch 27/100\n",
            "275/275 [==============================] - 1s 5ms/step - loss: 0.0762 - accuracy: 0.9770 - val_loss: 0.3879 - val_accuracy: 0.8846\n",
            "Epoch 28/100\n",
            "275/275 [==============================] - 1s 5ms/step - loss: 0.0729 - accuracy: 0.9757 - val_loss: 0.3549 - val_accuracy: 0.8983\n",
            "Epoch 29/100\n",
            "275/275 [==============================] - 1s 5ms/step - loss: 0.0723 - accuracy: 0.9771 - val_loss: 0.3132 - val_accuracy: 0.9060\n",
            "Epoch 30/100\n",
            "275/275 [==============================] - 1s 5ms/step - loss: 0.0677 - accuracy: 0.9788 - val_loss: 0.2784 - val_accuracy: 0.9199\n",
            "Epoch 31/100\n",
            "275/275 [==============================] - 1s 5ms/step - loss: 0.0662 - accuracy: 0.9780 - val_loss: 0.3691 - val_accuracy: 0.8915\n",
            "Epoch 32/100\n",
            "275/275 [==============================] - 1s 5ms/step - loss: 0.0569 - accuracy: 0.9823 - val_loss: 0.3923 - val_accuracy: 0.8949\n",
            "Epoch 33/100\n",
            "275/275 [==============================] - 1s 5ms/step - loss: 0.0622 - accuracy: 0.9790 - val_loss: 0.3510 - val_accuracy: 0.9022\n",
            "Epoch 34/100\n",
            "275/275 [==============================] - 1s 5ms/step - loss: 0.0612 - accuracy: 0.9793 - val_loss: 0.2998 - val_accuracy: 0.9170\n",
            "Epoch 35/100\n",
            "275/275 [==============================] - 1s 5ms/step - loss: 0.0488 - accuracy: 0.9853 - val_loss: 0.3192 - val_accuracy: 0.9106\n",
            "Epoch 36/100\n",
            "275/275 [==============================] - 1s 5ms/step - loss: 0.0499 - accuracy: 0.9845 - val_loss: 0.3045 - val_accuracy: 0.9188\n",
            "Epoch 37/100\n",
            "275/275 [==============================] - 1s 5ms/step - loss: 0.0482 - accuracy: 0.9848 - val_loss: 0.3162 - val_accuracy: 0.9140\n",
            "Epoch 38/100\n",
            "275/275 [==============================] - 1s 5ms/step - loss: 0.0469 - accuracy: 0.9858 - val_loss: 0.3138 - val_accuracy: 0.9151\n",
            "Epoch 39/100\n",
            "275/275 [==============================] - 1s 5ms/step - loss: 0.0491 - accuracy: 0.9845 - val_loss: 0.2848 - val_accuracy: 0.9179\n",
            "Epoch 40/100\n",
            "275/275 [==============================] - 1s 5ms/step - loss: 0.0413 - accuracy: 0.9877 - val_loss: 0.3323 - val_accuracy: 0.9106\n",
            "Epoch 41/100\n",
            "275/275 [==============================] - 1s 5ms/step - loss: 0.0408 - accuracy: 0.9881 - val_loss: 0.3287 - val_accuracy: 0.9195\n",
            "Epoch 42/100\n",
            "275/275 [==============================] - 1s 5ms/step - loss: 0.0445 - accuracy: 0.9851 - val_loss: 0.3236 - val_accuracy: 0.9104\n",
            "Epoch 43/100\n",
            "275/275 [==============================] - 1s 5ms/step - loss: 0.0390 - accuracy: 0.9872 - val_loss: 0.3262 - val_accuracy: 0.9197\n",
            "Epoch 44/100\n",
            "275/275 [==============================] - 1s 5ms/step - loss: 0.0403 - accuracy: 0.9875 - val_loss: 0.3005 - val_accuracy: 0.9226\n",
            "Epoch 45/100\n",
            "275/275 [==============================] - 1s 5ms/step - loss: 0.0407 - accuracy: 0.9865 - val_loss: 0.3547 - val_accuracy: 0.9085\n",
            "Epoch 46/100\n",
            "275/275 [==============================] - 1s 5ms/step - loss: 0.0318 - accuracy: 0.9894 - val_loss: 0.3278 - val_accuracy: 0.9215\n",
            "Epoch 47/100\n",
            "275/275 [==============================] - 1s 5ms/step - loss: 0.0351 - accuracy: 0.9896 - val_loss: 0.3025 - val_accuracy: 0.9190\n",
            "Epoch 48/100\n",
            "275/275 [==============================] - 1s 5ms/step - loss: 0.0322 - accuracy: 0.9899 - val_loss: 0.3443 - val_accuracy: 0.9124\n",
            "Epoch 49/100\n",
            "275/275 [==============================] - 1s 5ms/step - loss: 0.0311 - accuracy: 0.9899 - val_loss: 0.3199 - val_accuracy: 0.9204\n",
            "Epoch 50/100\n",
            "275/275 [==============================] - 1s 5ms/step - loss: 0.0358 - accuracy: 0.9886 - val_loss: 0.3704 - val_accuracy: 0.9072\n",
            "Epoch 51/100\n",
            "275/275 [==============================] - 1s 5ms/step - loss: 0.0349 - accuracy: 0.9892 - val_loss: 0.3397 - val_accuracy: 0.9181\n",
            "Epoch 52/100\n",
            "275/275 [==============================] - 1s 5ms/step - loss: 0.0339 - accuracy: 0.9887 - val_loss: 0.3116 - val_accuracy: 0.9251\n",
            "Epoch 53/100\n",
            "275/275 [==============================] - 1s 5ms/step - loss: 0.0272 - accuracy: 0.9912 - val_loss: 0.3422 - val_accuracy: 0.9156\n",
            "Epoch 54/100\n",
            "275/275 [==============================] - 1s 5ms/step - loss: 0.0232 - accuracy: 0.9930 - val_loss: 0.3226 - val_accuracy: 0.9201\n",
            "Epoch 55/100\n",
            "275/275 [==============================] - 1s 5ms/step - loss: 0.0295 - accuracy: 0.9918 - val_loss: 0.3154 - val_accuracy: 0.9224\n",
            "Epoch 56/100\n",
            "275/275 [==============================] - 1s 5ms/step - loss: 0.0302 - accuracy: 0.9906 - val_loss: 0.3791 - val_accuracy: 0.9126\n",
            "Epoch 57/100\n",
            "275/275 [==============================] - 1s 5ms/step - loss: 0.0271 - accuracy: 0.9905 - val_loss: 0.3895 - val_accuracy: 0.9076\n",
            "Epoch 58/100\n",
            "275/275 [==============================] - 1s 5ms/step - loss: 0.0278 - accuracy: 0.9905 - val_loss: 0.3464 - val_accuracy: 0.9154\n",
            "Epoch 59/100\n",
            "275/275 [==============================] - 1s 5ms/step - loss: 0.0275 - accuracy: 0.9913 - val_loss: 0.3213 - val_accuracy: 0.9206\n",
            "Epoch 60/100\n",
            "275/275 [==============================] - 1s 5ms/step - loss: 0.0211 - accuracy: 0.9944 - val_loss: 0.3176 - val_accuracy: 0.9270\n",
            "Epoch 61/100\n",
            "275/275 [==============================] - 1s 5ms/step - loss: 0.0197 - accuracy: 0.9943 - val_loss: 0.3710 - val_accuracy: 0.9090\n",
            "Epoch 62/100\n",
            "275/275 [==============================] - 1s 5ms/step - loss: 0.0252 - accuracy: 0.9915 - val_loss: 0.3587 - val_accuracy: 0.9242\n",
            "Epoch 63/100\n",
            "275/275 [==============================] - 1s 5ms/step - loss: 0.0230 - accuracy: 0.9921 - val_loss: 0.3368 - val_accuracy: 0.9201\n",
            "Epoch 64/100\n",
            "275/275 [==============================] - 1s 5ms/step - loss: 0.0227 - accuracy: 0.9926 - val_loss: 0.3264 - val_accuracy: 0.9240\n",
            "Epoch 65/100\n",
            "275/275 [==============================] - 1s 5ms/step - loss: 0.0271 - accuracy: 0.9908 - val_loss: 0.3697 - val_accuracy: 0.9192\n",
            "Epoch 66/100\n",
            "275/275 [==============================] - 1s 5ms/step - loss: 0.0267 - accuracy: 0.9915 - val_loss: 0.3885 - val_accuracy: 0.9117\n",
            "Epoch 67/100\n",
            "275/275 [==============================] - 1s 5ms/step - loss: 0.0213 - accuracy: 0.9942 - val_loss: 0.3576 - val_accuracy: 0.9204\n",
            "Epoch 68/100\n",
            "275/275 [==============================] - 1s 5ms/step - loss: 0.0243 - accuracy: 0.9930 - val_loss: 0.4133 - val_accuracy: 0.8976\n",
            "Epoch 69/100\n",
            "275/275 [==============================] - 1s 5ms/step - loss: 0.0228 - accuracy: 0.9933 - val_loss: 0.3766 - val_accuracy: 0.9151\n",
            "Epoch 70/100\n",
            "275/275 [==============================] - 1s 5ms/step - loss: 0.0221 - accuracy: 0.9928 - val_loss: 0.3566 - val_accuracy: 0.9238\n",
            "Epoch 71/100\n",
            "275/275 [==============================] - 1s 5ms/step - loss: 0.0218 - accuracy: 0.9937 - val_loss: 0.3492 - val_accuracy: 0.9195\n",
            "Epoch 72/100\n",
            "275/275 [==============================] - 1s 5ms/step - loss: 0.0190 - accuracy: 0.9950 - val_loss: 0.3705 - val_accuracy: 0.9167\n",
            "Epoch 73/100\n",
            "275/275 [==============================] - 1s 5ms/step - loss: 0.0216 - accuracy: 0.9919 - val_loss: 0.3510 - val_accuracy: 0.9188\n",
            "Epoch 74/100\n",
            "275/275 [==============================] - 1s 5ms/step - loss: 0.0170 - accuracy: 0.9945 - val_loss: 0.3588 - val_accuracy: 0.9188\n",
            "Epoch 75/100\n",
            "275/275 [==============================] - 1s 5ms/step - loss: 0.0217 - accuracy: 0.9925 - val_loss: 0.3552 - val_accuracy: 0.9195\n",
            "Epoch 76/100\n",
            "275/275 [==============================] - 1s 5ms/step - loss: 0.0161 - accuracy: 0.9950 - val_loss: 0.4139 - val_accuracy: 0.9060\n",
            "Epoch 77/100\n",
            "275/275 [==============================] - 1s 5ms/step - loss: 0.0179 - accuracy: 0.9941 - val_loss: 0.3355 - val_accuracy: 0.9238\n",
            "Epoch 78/100\n",
            "275/275 [==============================] - 1s 5ms/step - loss: 0.0214 - accuracy: 0.9941 - val_loss: 0.3540 - val_accuracy: 0.9183\n",
            "Epoch 79/100\n",
            "275/275 [==============================] - 1s 5ms/step - loss: 0.0206 - accuracy: 0.9934 - val_loss: 0.3296 - val_accuracy: 0.9251\n",
            "Epoch 80/100\n",
            "275/275 [==============================] - 1s 5ms/step - loss: 0.0177 - accuracy: 0.9957 - val_loss: 0.3351 - val_accuracy: 0.9213\n",
            "Epoch 81/100\n",
            "275/275 [==============================] - 1s 5ms/step - loss: 0.0218 - accuracy: 0.9924 - val_loss: 0.3788 - val_accuracy: 0.9167\n",
            "Epoch 82/100\n",
            "275/275 [==============================] - 1s 5ms/step - loss: 0.0169 - accuracy: 0.9953 - val_loss: 0.3356 - val_accuracy: 0.9286\n",
            "Epoch 83/100\n",
            "275/275 [==============================] - 1s 5ms/step - loss: 0.0152 - accuracy: 0.9949 - val_loss: 0.3696 - val_accuracy: 0.9188\n",
            "Epoch 84/100\n",
            "275/275 [==============================] - 1s 5ms/step - loss: 0.0276 - accuracy: 0.9902 - val_loss: 0.4246 - val_accuracy: 0.9113\n",
            "Epoch 85/100\n",
            "275/275 [==============================] - 1s 5ms/step - loss: 0.0236 - accuracy: 0.9914 - val_loss: 0.3743 - val_accuracy: 0.9204\n",
            "Epoch 86/100\n",
            "275/275 [==============================] - 1s 5ms/step - loss: 0.0173 - accuracy: 0.9947 - val_loss: 0.3956 - val_accuracy: 0.9131\n",
            "Epoch 87/100\n",
            "275/275 [==============================] - 1s 5ms/step - loss: 0.0218 - accuracy: 0.9922 - val_loss: 0.3768 - val_accuracy: 0.9247\n",
            "Epoch 88/100\n",
            "275/275 [==============================] - 1s 5ms/step - loss: 0.0134 - accuracy: 0.9954 - val_loss: 0.3550 - val_accuracy: 0.9233\n",
            "Epoch 89/100\n",
            "275/275 [==============================] - 1s 5ms/step - loss: 0.0142 - accuracy: 0.9957 - val_loss: 0.3942 - val_accuracy: 0.9195\n",
            "Epoch 90/100\n",
            "275/275 [==============================] - 1s 5ms/step - loss: 0.0146 - accuracy: 0.9953 - val_loss: 0.3650 - val_accuracy: 0.9167\n",
            "Epoch 91/100\n",
            "275/275 [==============================] - 1s 5ms/step - loss: 0.0149 - accuracy: 0.9953 - val_loss: 0.3707 - val_accuracy: 0.9156\n",
            "Epoch 92/100\n",
            "275/275 [==============================] - 1s 5ms/step - loss: 0.0162 - accuracy: 0.9947 - val_loss: 0.3794 - val_accuracy: 0.9208\n",
            "Epoch 93/100\n",
            "275/275 [==============================] - 1s 5ms/step - loss: 0.0146 - accuracy: 0.9954 - val_loss: 0.3542 - val_accuracy: 0.9283\n",
            "Epoch 94/100\n",
            "275/275 [==============================] - 1s 5ms/step - loss: 0.0128 - accuracy: 0.9958 - val_loss: 0.3544 - val_accuracy: 0.9258\n",
            "Epoch 95/100\n",
            "275/275 [==============================] - 1s 5ms/step - loss: 0.0171 - accuracy: 0.9952 - val_loss: 0.3408 - val_accuracy: 0.9254\n",
            "Epoch 96/100\n",
            "275/275 [==============================] - 1s 5ms/step - loss: 0.0174 - accuracy: 0.9944 - val_loss: 0.3841 - val_accuracy: 0.9170\n",
            "Epoch 97/100\n",
            "275/275 [==============================] - 1s 5ms/step - loss: 0.0198 - accuracy: 0.9942 - val_loss: 0.3966 - val_accuracy: 0.9140\n",
            "Epoch 98/100\n",
            "275/275 [==============================] - 1s 5ms/step - loss: 0.0178 - accuracy: 0.9937 - val_loss: 0.3821 - val_accuracy: 0.9190\n",
            "Epoch 99/100\n",
            "275/275 [==============================] - 1s 5ms/step - loss: 0.0128 - accuracy: 0.9965 - val_loss: 0.3830 - val_accuracy: 0.9217\n",
            "Epoch 100/100\n",
            "275/275 [==============================] - 1s 5ms/step - loss: 0.0110 - accuracy: 0.9962 - val_loss: 0.3414 - val_accuracy: 0.9254\n"
          ],
          "name": "stdout"
        }
      ]
    },
    {
      "cell_type": "code",
      "metadata": {
        "id": "wJ2ADW7MlL3j"
      },
      "source": [
        "def plot_history(history):\n",
        "    \"\"\"Plots accuracy/loss for training/validation set as a function of the epochs\n",
        "        :param history: Training history of model\n",
        "        :return:\n",
        "    \"\"\"\n",
        "\n",
        "    fig, axs = plt.subplots(2)\n",
        "\n",
        "    # create accuracy sublpot\n",
        "    axs[0].plot(history.history[\"accuracy\"], label=\"train accuracy\")\n",
        "    axs[0].plot(history.history[\"val_accuracy\"], label=\"Validation accuracy\")\n",
        "    axs[0].set_ylabel(\"Accuracy\")\n",
        "    axs[0].legend(loc=\"lower right\")\n",
        "    axs[0].set_title(\"Accuracy eval\")\n",
        "    print()\n",
        "    print()\n",
        "\n",
        "    # create error sublpot\n",
        "    axs[1].plot(history.history[\"loss\"], label=\"train error\")\n",
        "    axs[1].plot(history.history[\"val_loss\"], label=\"validation error\")\n",
        "    axs[1].set_ylabel(\"Error\")\n",
        "    axs[1].set_xlabel(\"Epoch\")\n",
        "    axs[1].legend(loc=\"upper right\")\n",
        "    axs[1].set_title(\"Error eval\")\n",
        "\n",
        "    plt.show()"
      ],
      "id": "wJ2ADW7MlL3j",
      "execution_count": 22,
      "outputs": []
    },
    {
      "cell_type": "code",
      "metadata": {
        "id": "9c79ba70",
        "colab": {
          "base_uri": "https://localhost:8080/",
          "height": 448
        },
        "outputId": "088790fe-cb51-4a89-86d0-e10d324e0769"
      },
      "source": [
        "if __name__ == '__main__':\n",
        "  plot_history(history)\n",
        "  print()\n",
        "  print()\n",
        "  test_loss, test_acc = model.evaluate(X_test, y_test, verbose=2)\n",
        "  print()\n",
        "  print()\n",
        "  print('\\nTest accuracy:', test_acc)"
      ],
      "id": "9c79ba70",
      "execution_count": 23,
      "outputs": [
        {
          "output_type": "stream",
          "text": [
            "\n",
            "\n"
          ],
          "name": "stdout"
        },
        {
          "output_type": "display_data",
          "data": {
            "image/png": "[encoded data removed]",
            "text/plain": [
              "<Figure size 432x288 with 2 Axes>"
            ]
          },
          "metadata": {
            "tags": [],
            "needs_background": "light"
          }
        },
        {
          "output_type": "stream",
          "text": [
            "\n",
            "\n",
            "229/229 - 0s - loss: 0.3307 - accuracy: 0.9279\n",
            "\n",
            "\n",
            "\n",
            "Test accuracy: 0.9279180765151978\n"
          ],
          "name": "stdout"
        }
      ]
    },
    {
      "cell_type": "code",
      "metadata": {
        "id": "02729df4",
        "colab": {
          "base_uri": "https://localhost:8080/"
        },
        "outputId": "ee4ab695-e545-4522-deaf-d05ec35701d8"
      },
      "source": [
        "if __name__ == '__main__':\n",
        "    # pick a sample to predict from the test set\n",
        "    X_to_predict = X_test[101]\n",
        "    y_to_predict = y_test[108]\n",
        "\n",
        "   \n",
        "\n",
        "    # predict sample\n",
        "    predict(model, X_to_predict, y_to_predict)\n",
        "  "
      ],
      "id": "02729df4",
      "execution_count": 26,
      "outputs": [
        {
          "output_type": "stream",
          "text": [
            "Target: [0. 0. 0. 0. 0. 0. 0. 0. 0. 1.], Predicted label: [0]\n"
          ],
          "name": "stdout"
        }
      ]
    },
    {
      "cell_type": "code",
      "metadata": {
        "id": "6f42ebbf"
      },
      "source": [
        ""
      ],
      "id": "6f42ebbf",
      "execution_count": 24,
      "outputs": []
    },
    {
      "cell_type": "code",
      "metadata": {
        "id": "f8815a0e"
      },
      "source": [
        ""
      ],
      "id": "f8815a0e",
      "execution_count": 24,
      "outputs": []
    }
  ]
}