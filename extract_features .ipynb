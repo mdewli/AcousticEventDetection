{
  "nbformat": 4,
  "nbformat_minor": 0,
  "metadata": {
    "kernelspec": {
      "display_name": "Python 3",
      "language": "python",
      "name": "python3"
    },
    "language_info": {
      "codemirror_mode": {
        "name": "ipython",
        "version": 3
      },
      "file_extension": ".py",
      "mimetype": "text/x-python",
      "name": "python",
      "nbconvert_exporter": "python",
      "pygments_lexer": "ipython3",
      "version": "3.8.8"
    },
    "colab": {
      "name": "extract_features.ipynb",
      "provenance": [],
      "collapsed_sections": []
    }
  },
  "cells": [
    {
      "cell_type": "code",
      "metadata": {
        "id": "5Nw9eWqjL8BW"
      },
      "source": [
        "#import all the libraries\n",
        "\n",
        "import os\n",
        "import numpy as np \n",
        "import pandas as pd\n",
        "import librosa\n",
        "import json\n",
        "import pickle\n",
        "from sklearn.model_selection import train_test_split\n",
        "import random\n",
        "import tensorflow as tf\n",
        "import json\n",
        "from sklearn.model_selection import train_test_split\n",
        "import tensorflow.keras as keras\n",
        "import matplotlib.pyplot as plt"
      ],
      "execution_count": 25,
      "outputs": []
    },
    {
      "cell_type": "code",
      "metadata": {
        "colab": {
          "base_uri": "https://localhost:8080/"
        },
        "id": "0xZ32bIdQFcU",
        "outputId": "c3f0ff10-644e-4e17-d331-2798a0b62c03"
      },
      "source": [
        "from google.colab import drive\n",
        "drive.mount(\"/content/drive\")"
      ],
      "execution_count": 26,
      "outputs": [
        {
          "output_type": "stream",
          "text": [
            "Drive already mounted at /content/drive; to attempt to forcibly remount, call drive.mount(\"/content/drive\", force_remount=True).\n"
          ],
          "name": "stdout"
        }
      ]
    },
    {
      "cell_type": "markdown",
      "metadata": {
        "id": "hDQMb2WJO5Wf"
      },
      "source": [
        "Next, we load the csv file as a pandas dataframe. This csv file stores the information about the class labels and class ID's. The data is stored in 10 folders fold1 to fold10. We need to use the dataframe to access audio files for pre-processing.\n"
      ]
    },
    {
      "cell_type": "code",
      "metadata": {
        "colab": {
          "base_uri": "https://localhost:8080/",
          "height": 204
        },
        "id": "AuD9Vyo0L8BX",
        "outputId": "639fe175-97c4-4fce-de5e-1f35c6096b32"
      },
      "source": [
        "df = pd.read_csv('/content/drive/MyDrive/urbansound/UrbanSound8K.csv')\n",
        "\n",
        "df.head()"
      ],
      "execution_count": 27,
      "outputs": [
        {
          "output_type": "execute_result",
          "data": {
            "text/html": [
              "<div>\n",
              "<style scoped>\n",
              "    .dataframe tbody tr th:only-of-type {\n",
              "        vertical-align: middle;\n",
              "    }\n",
              "\n",
              "    .dataframe tbody tr th {\n",
              "        vertical-align: top;\n",
              "    }\n",
              "\n",
              "    .dataframe thead th {\n",
              "        text-align: right;\n",
              "    }\n",
              "</style>\n",
              "<table border=\"1\" class=\"dataframe\">\n",
              "  <thead>\n",
              "    <tr style=\"text-align: right;\">\n",
              "      <th></th>\n",
              "      <th>slice_file_name</th>\n",
              "      <th>fsID</th>\n",
              "      <th>start</th>\n",
              "      <th>end</th>\n",
              "      <th>salience</th>\n",
              "      <th>fold</th>\n",
              "      <th>classID</th>\n",
              "      <th>class</th>\n",
              "    </tr>\n",
              "  </thead>\n",
              "  <tbody>\n",
              "    <tr>\n",
              "      <th>0</th>\n",
              "      <td>100032-3-0-0.wav</td>\n",
              "      <td>100032</td>\n",
              "      <td>0.0</td>\n",
              "      <td>0.317551</td>\n",
              "      <td>1</td>\n",
              "      <td>5</td>\n",
              "      <td>3</td>\n",
              "      <td>dog_bark</td>\n",
              "    </tr>\n",
              "    <tr>\n",
              "      <th>1</th>\n",
              "      <td>100263-2-0-117.wav</td>\n",
              "      <td>100263</td>\n",
              "      <td>58.5</td>\n",
              "      <td>62.500000</td>\n",
              "      <td>1</td>\n",
              "      <td>5</td>\n",
              "      <td>2</td>\n",
              "      <td>children_playing</td>\n",
              "    </tr>\n",
              "    <tr>\n",
              "      <th>2</th>\n",
              "      <td>100263-2-0-121.wav</td>\n",
              "      <td>100263</td>\n",
              "      <td>60.5</td>\n",
              "      <td>64.500000</td>\n",
              "      <td>1</td>\n",
              "      <td>5</td>\n",
              "      <td>2</td>\n",
              "      <td>children_playing</td>\n",
              "    </tr>\n",
              "    <tr>\n",
              "      <th>3</th>\n",
              "      <td>100263-2-0-126.wav</td>\n",
              "      <td>100263</td>\n",
              "      <td>63.0</td>\n",
              "      <td>67.000000</td>\n",
              "      <td>1</td>\n",
              "      <td>5</td>\n",
              "      <td>2</td>\n",
              "      <td>children_playing</td>\n",
              "    </tr>\n",
              "    <tr>\n",
              "      <th>4</th>\n",
              "      <td>100263-2-0-137.wav</td>\n",
              "      <td>100263</td>\n",
              "      <td>68.5</td>\n",
              "      <td>72.500000</td>\n",
              "      <td>1</td>\n",
              "      <td>5</td>\n",
              "      <td>2</td>\n",
              "      <td>children_playing</td>\n",
              "    </tr>\n",
              "  </tbody>\n",
              "</table>\n",
              "</div>"
            ],
            "text/plain": [
              "      slice_file_name    fsID  start  ...  fold  classID             class\n",
              "0    100032-3-0-0.wav  100032    0.0  ...     5        3          dog_bark\n",
              "1  100263-2-0-117.wav  100263   58.5  ...     5        2  children_playing\n",
              "2  100263-2-0-121.wav  100263   60.5  ...     5        2  children_playing\n",
              "3  100263-2-0-126.wav  100263   63.0  ...     5        2  children_playing\n",
              "4  100263-2-0-137.wav  100263   68.5  ...     5        2  children_playing\n",
              "\n",
              "[5 rows x 8 columns]"
            ]
          },
          "metadata": {
            "tags": []
          },
          "execution_count": 27
        }
      ]
    },
    {
      "cell_type": "code",
      "metadata": {
        "scrolled": false,
        "colab": {
          "base_uri": "https://localhost:8080/"
        },
        "id": "0-_o__tDL8BZ",
        "outputId": "513e352e-7eb0-4243-b69a-1ab49ac5f556"
      },
      "source": [
        "df[['class','classID']].value_counts()"
      ],
      "execution_count": 28,
      "outputs": [
        {
          "output_type": "execute_result",
          "data": {
            "text/plain": [
              "class             classID\n",
              "street_music      9          1000\n",
              "jackhammer        7          1000\n",
              "engine_idling     5          1000\n",
              "drilling          4          1000\n",
              "dog_bark          3          1000\n",
              "children_playing  2          1000\n",
              "air_conditioner   0          1000\n",
              "siren             8           929\n",
              "car_horn          1           429\n",
              "gun_shot          6           374\n",
              "dtype: int64"
            ]
          },
          "metadata": {
            "tags": []
          },
          "execution_count": 28
        }
      ]
    },
    {
      "cell_type": "markdown",
      "metadata": {
        "id": "Q-J57wXdPhac"
      },
      "source": [
        "The classId column in the dataframe assigns numerical labels to each class. However, we want to assign one hot encoded labels. We can make use of np.eye() method to generate a matrix of one hot encoded labels\n"
      ]
    },
    {
      "cell_type": "code",
      "metadata": {
        "colab": {
          "base_uri": "https://localhost:8080/"
        },
        "id": "EwguaGfDL8BZ",
        "outputId": "2b13ddfd-22de-416d-e946-55b7f4628b53"
      },
      "source": [
        "class_set = set(df['class'].tolist())       #converting the list to set gives us all the class labels only onceP\n",
        "\n",
        "one_hot_labels = np.eye(len(class_set))\n",
        "\n",
        "print(class_set)\n",
        "print()\n",
        "print(one_hot_labels)"
      ],
      "execution_count": 29,
      "outputs": [
        {
          "output_type": "stream",
          "text": [
            "{'car_horn', 'dog_bark', 'gun_shot', 'street_music', 'siren', 'air_conditioner', 'jackhammer', 'engine_idling', 'children_playing', 'drilling'}\n",
            "\n",
            "[[1. 0. 0. 0. 0. 0. 0. 0. 0. 0.]\n",
            " [0. 1. 0. 0. 0. 0. 0. 0. 0. 0.]\n",
            " [0. 0. 1. 0. 0. 0. 0. 0. 0. 0.]\n",
            " [0. 0. 0. 1. 0. 0. 0. 0. 0. 0.]\n",
            " [0. 0. 0. 0. 1. 0. 0. 0. 0. 0.]\n",
            " [0. 0. 0. 0. 0. 1. 0. 0. 0. 0.]\n",
            " [0. 0. 0. 0. 0. 0. 1. 0. 0. 0.]\n",
            " [0. 0. 0. 0. 0. 0. 0. 1. 0. 0.]\n",
            " [0. 0. 0. 0. 0. 0. 0. 0. 1. 0.]\n",
            " [0. 0. 0. 0. 0. 0. 0. 0. 0. 1.]]\n"
          ],
          "name": "stdout"
        }
      ]
    },
    {
      "cell_type": "markdown",
      "metadata": {
        "id": "MfjC6fd5RRHQ"
      },
      "source": [
        "Next, we map all the class labels to their corresponding one hot encoded label\n"
      ]
    },
    {
      "cell_type": "code",
      "metadata": {
        "id": "DtjpxjCLL8Ba"
      },
      "source": [
        "mappings = {}\n",
        "\n",
        "for key, value in zip(class_set, one_hot_labels):\n",
        "    mappings[key] = value"
      ],
      "execution_count": 30,
      "outputs": []
    },
    {
      "cell_type": "code",
      "metadata": {
        "colab": {
          "base_uri": "https://localhost:8080/"
        },
        "id": "ToSWrY0fL8Ba",
        "outputId": "c2070624-9dbe-48f8-eeff-e6fc279e63f7"
      },
      "source": [
        "mappings"
      ],
      "execution_count": 31,
      "outputs": [
        {
          "output_type": "execute_result",
          "data": {
            "text/plain": [
              "{'air_conditioner': array([0., 0., 0., 0., 0., 1., 0., 0., 0., 0.]),\n",
              " 'car_horn': array([1., 0., 0., 0., 0., 0., 0., 0., 0., 0.]),\n",
              " 'children_playing': array([0., 0., 0., 0., 0., 0., 0., 0., 1., 0.]),\n",
              " 'dog_bark': array([0., 1., 0., 0., 0., 0., 0., 0., 0., 0.]),\n",
              " 'drilling': array([0., 0., 0., 0., 0., 0., 0., 0., 0., 1.]),\n",
              " 'engine_idling': array([0., 0., 0., 0., 0., 0., 0., 1., 0., 0.]),\n",
              " 'gun_shot': array([0., 0., 1., 0., 0., 0., 0., 0., 0., 0.]),\n",
              " 'jackhammer': array([0., 0., 0., 0., 0., 0., 1., 0., 0., 0.]),\n",
              " 'siren': array([0., 0., 0., 0., 1., 0., 0., 0., 0., 0.]),\n",
              " 'street_music': array([0., 0., 0., 1., 0., 0., 0., 0., 0., 0.])}"
            ]
          },
          "metadata": {
            "tags": []
          },
          "execution_count": 31
        }
      ]
    },
    {
      "cell_type": "markdown",
      "metadata": {
        "id": "2j6BtzQORqYx"
      },
      "source": [
        "We define functions to extract frequency domain audio data features: Mfccs, stfts and melspectrograms\n"
      ]
    },
    {
      "cell_type": "code",
      "metadata": {
        "id": "JBLdeY7dL8Ba"
      },
      "source": [
        "def mfccs_extractor(signal):\n",
        "    \n",
        "    NUM_MFCC = 13\n",
        "    N_FFT = 2048\n",
        "    HOP_LENGTH = 512\n",
        "    SAMPLING_RATE = 22500\n",
        "    \n",
        "\n",
        "    mfcc = librosa.feature.mfcc(signal,sr=SAMPLING_RATE, n_mfcc=NUM_MFCC, n_fft=N_FFT, hop_length=HOP_LENGTH)\n",
        "    mfcc = mfcc.T\n",
        "    \n",
        "    return mfcc\n",
        "\n",
        "def stft_extractor(signal):\n",
        "\n",
        "    N_FFT = 2048\n",
        "    HOP_LENGTH = 512\n",
        "    SAMPLING_RATE = 22500\n",
        "\n",
        "    stft = librosa.stft(signal, n_fft=N_FFT, hop_length=HOP_LENGTH, window='hann', center=True, pad_mode='reflect')\n",
        "    stft = stft.T\n",
        "    \n",
        "    return stft\n",
        "\n",
        "\n",
        "def mels_extractor(signal):\n",
        "\n",
        "    N_FFT = 2048\n",
        "    HOP_LENGTH = 512\n",
        "    SAMPLING_RATE = 22500\n",
        "  \n",
        "  \n",
        "    mels = librosa.feature.melspectrogram(y=signal, sr=SAMPLING_RATE, S=None, n_fft=N_FFT, hop_length=HOP_LENGTH)\n",
        "    mels = mels.T\n",
        "    \n",
        "    return mels"
      ],
      "execution_count": 32,
      "outputs": []
    },
    {
      "cell_type": "markdown",
      "metadata": {
        "id": "xwLlUyBsV8BT"
      },
      "source": [
        "Next, we load a random audio file and check the shapes of tensors for each of our features ( mfccs, stfts and mels) for an audio of duration 4 secs\n",
        "Here, the sampling rate is 22500 which mean 1 secs of audio contains 22500 samples. Which means 4 secs of audio contains 22500*4 = 90000 samples. The hop length is 512. Thus each feature is calculated on a segment of 'hop length' of 512 samples. Thus we have 90,000/512 ~ 176 feature vectors for each audio sample. Mfcc's have 13 features for each audio segment (of length 512 samples), stfts have 1025 and mels have 128 features for each segment\n"
      ]
    },
    {
      "cell_type": "code",
      "metadata": {
        "colab": {
          "base_uri": "https://localhost:8080/"
        },
        "id": "t5lAzZ_SSYcK",
        "outputId": "df505e1a-c4c5-408b-e8b3-4ff8ddb534bb"
      },
      "source": [
        "NUM_MFCC = 13\n",
        "N_FFT = 2048\n",
        "HOP_LENGTH = 512\n",
        "SAMPLING_RATE = 22500\n",
        "\n",
        "signal, sr = librosa.load('/content/drive/MyDrive/urbansound/fold2/100652-3-0-0.wav',sr=SAMPLING_RATE)\n",
        "\n",
        "mfcc = librosa.feature.mfcc(signal,sr=SAMPLING_RATE, n_mfcc=NUM_MFCC, n_fft=N_FFT, hop_length=HOP_LENGTH)\n",
        "mfcc = mfcc.T\n",
        "\n",
        "stft = librosa.stft(signal, n_fft=N_FFT, hop_length=HOP_LENGTH, window='hann', center=True, pad_mode='reflect')\n",
        "stft = stft.T\n",
        "\n",
        "mels = librosa.feature.melspectrogram(y=signal, sr=SAMPLING_RATE, S=None, n_fft=N_FFT, hop_length=HOP_LENGTH)\n",
        "mels = mels.T\n",
        "\n",
        "print(\"Shape of mfcc tensor for each audio file of 4 secs duration : \", (len(mfcc), len(mfcc.T)))\n",
        "print(\"Shape of stft tensor for each audio file of 4 secs duration : \",(len(stft), len(stft.T)))\n",
        "print(\"Shape of mels tensor for each audio file of 4 secs duration : \",(len(mels), len(mels.T)))"
      ],
      "execution_count": 55,
      "outputs": [
        {
          "output_type": "stream",
          "text": [
            "Shape of mfcc tensor for each audio file of 4 secs duration :  (176, 13)\n",
            "Shape of stft tensor for each audio file of 4 secs duration :  (176, 1025)\n",
            "Shape of mels tensor for each audio file of 4 secs duration :  (176, 128)\n"
          ],
          "name": "stdout"
        }
      ]
    },
    {
      "cell_type": "markdown",
      "metadata": {
        "id": "6g37JyJrXvHg"
      },
      "source": [
        "Next, we create a function to itererate through all the audio files in all the directories and extract features(mfccs, stft's and mel spectrograms). We also divide each audio file into 4 segments to increase the number of input samples and to also ensure that each sample is of same size. We discard samples less than 1 sec in duration (1 sec corresponds to 22500 samples). All the features are then mapped to their corresponding labels in a sictionary which is then saved as a pkl file to be used later"
      ]
    },
    {
      "cell_type": "code",
      "metadata": {
        "id": "MaBLdcA5L8Bb"
      },
      "source": [
        "def preprocess_data(dirpath, df):\n",
        "\n",
        "      \"\"\" We divide each audio file into 4 segments of 1 sec duration.\n",
        "          1 secs of audio has 22500 samples --> 4 secs of audio has 4*22500=90000 samples\n",
        "          The number of segments =4, therefore each segment is of 1 sec duration and has 22500 samples\n",
        "          first iteration start-->0*22500 =0, end--> 22500, \n",
        "          second iteration start--> 22500*1=22500, end= 22500 +22500=4500\n",
        "          third iteration start--> 22500*2=45000, end= 45000 +22500=67500 \"\"\"\n",
        "        \n",
        "    \n",
        "    data = {\n",
        "        \"semantic_label\": [],\n",
        "        \"labels\" : [],\n",
        "        \"mfccs\" : [],\n",
        "         \"mels\" : [],\n",
        "         \"stft\" : []   \n",
        "         }\n",
        "    \n",
        "    NUM_OF_SEGMENTS =4\n",
        "    \n",
        "    for i in range(len(df)):\n",
        "        filepath = os.path.join(dirpath, 'fold'+ str(df['fold'][i]), df['slice_file_name'][i])\n",
        "        \n",
        "        signal, sr = librosa.load(filepath, sr = 22500, res_type='kaiser_fast')\n",
        "        \n",
        "        NUM_OF_FRAMES_IN_SEGMENT = int(len(signal)/NUM_OF_SEGMENTS) \n",
        "      \n",
        "        for num in range(NUM_OF_SEGMENTS):                    \n",
        "                                                                      \n",
        "            start = NUM_OF_FRAMES_IN_SEGMENT*num\n",
        "            end = start + NUM_OF_FRAMES_IN_SEGMENT\n",
        "\n",
        "            # we slice the signal into segment\n",
        "            segment = signal[start:end]   \n",
        "\n",
        "            # do not consider samples of duaration less than 1 secs\n",
        "            if len(segment)==22500:                                     \n",
        "                \n",
        "                mfcc = mfccs_extractor(segment)\n",
        "                mels = mels_extractor(segment)\n",
        "                stft = stft_extractor(segment)\n",
        "\n",
        "                semanticlabel = df['class'][i]\n",
        "\n",
        "                class_label = mappings[semanticlabel]\n",
        "\n",
        "                # We map features to their corresponding labels in the dictionary by appending them through a list\n",
        "\n",
        "                data[\"mfccs\"].append(mfcc)                             \n",
        "                data[\"mels\"].append(mels)\n",
        "                data[\"stft\"].append(stft)\n",
        "                data[\"semantic_label\"].append(semanticlabel)\n",
        "                data[\"labels\"].append(class_label)\n",
        "                \n",
        "\n",
        "    return data\n",
        "\n",
        "\n",
        "def save_data(data):\n",
        "    \n",
        "    with open('pre_processed_data.pkl', 'wb') as output:\n",
        "        pickle.dump(data, output)\n",
        "  \n"
      ],
      "execution_count": null,
      "outputs": []
    },
    {
      "cell_type": "code",
      "metadata": {
        "id": "bPSzji8AL8Bc"
      },
      "source": [
        "def load_data(filepath):\n",
        "    with open(filepath, 'rb') as pkl_file:\n",
        "        dataset = pickle.load(pkl_file)\n",
        "    \n",
        "    \n",
        "    return dataset"
      ],
      "execution_count": null,
      "outputs": []
    },
    {
      "cell_type": "code",
      "metadata": {
        "scrolled": true,
        "id": "ApwS--I8L8Bd"
      },
      "source": [
        "if __name__ == '__main__':\n",
        "    \n",
        "    dirpath = './'\n",
        "    df = pd.read_csv('./UrbanSound8K.csv')\n",
        "    \n",
        "    dataset = preprocess_data(dirpath, df)\n",
        "    \n",
        "    save_data(dataset)\n",
        "    \n",
        "    \n",
        "\n"
      ],
      "execution_count": null,
      "outputs": []
    },
    {
      "cell_type": "code",
      "metadata": {
        "id": "Ythz68VLL8Bd"
      },
      "source": [
        ""
      ],
      "execution_count": null,
      "outputs": []
    }
  ]
}